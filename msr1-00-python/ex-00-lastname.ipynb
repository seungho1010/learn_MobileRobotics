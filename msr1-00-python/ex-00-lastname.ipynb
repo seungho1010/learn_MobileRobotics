{
 "cells": [
  {
   "cell_type": "markdown",
   "metadata": {},
   "source": [
    "# **Python Tutorial - Exercise**\n",
    "This Jupyter-Notebook script is a collection of exercises for the [introduction to python](https://www.ipb.uni-bonn.de/python-intro/).\n",
    "\n",
    "For the submission make sure to...\n",
    "- rename this file (ex-00-yourLastname.ipynb)\n",
    "- answer all questions in this file. \n",
    "- run the script from the beginning to the end (restart kernel and run whole notebook: '>>'-Button)\n",
    "- submit all necessary files to run this script (e.g. .zip/.tar)\n",
    "\n",
    "#### **Points: [40]**"
   ]
  },
  {
   "cell_type": "markdown",
   "metadata": {},
   "source": [
    "## **A. Variables [2]**\n",
    "\n",
    "A variable is a container for a value, which can be of various types, e.g., int, float, str..."
   ]
  },
  {
   "cell_type": "markdown",
   "metadata": {},
   "source": [
    "**Task**: Define two variables $x$ and $y$ and compute their divsion and sum. Let $x = 10$ and $y=3$. **Print out** the **type** of $x$, $y$, $\\frac{x}{y}$ and $x+y$ as well as the **result** of their divsion and sum. **[2]**"
   ]
  },
  {
   "cell_type": "code",
   "execution_count": null,
   "metadata": {},
   "outputs": [],
   "source": [
    "# Define the variables in this cell\n"
   ]
  },
  {
   "cell_type": "code",
   "execution_count": null,
   "metadata": {},
   "outputs": [],
   "source": [
    "# Compute the divsion of both variables\n"
   ]
  },
  {
   "cell_type": "code",
   "execution_count": null,
   "metadata": {},
   "outputs": [],
   "source": [
    "# Compute the sum of both variables\n"
   ]
  },
  {
   "cell_type": "code",
   "execution_count": null,
   "metadata": {},
   "outputs": [],
   "source": [
    "# Print out the data types in this cell\n"
   ]
  },
  {
   "cell_type": "code",
   "execution_count": null,
   "metadata": {},
   "outputs": [],
   "source": [
    "# Print out the result of the divison and sum in this cell\n"
   ]
  },
  {
   "cell_type": "markdown",
   "metadata": {},
   "source": [
    "## **B. Data Structures [7]**\n",
    "Python has several data structures for efficient data organization. We will now look a little bit closer to the most important ones: \n",
    "- A List is a collection which is *ordered* and *changeable (mutable)*. It allows for *duplicate members*.\n",
    "- A Tuple is a collection which is *ordered* and *unchangeable (immutable)*. It allows for *duplicate members*.\n",
    "- A Dictionary is a collection which is *unordered*, *changeable (mutable)* and *indexed*. *No duplicate* keys allowed"
   ]
  },
  {
   "cell_type": "markdown",
   "metadata": {},
   "source": [
    "#### **B1. Lists**\n",
    "**Tasks**:\n",
    "1. Create a list which contains the values 1 to 9. **Print out** the **length** of the list and compute the **sum** of the first and last entry. Use *indexing* to access these entries **[1.5]**\n",
    "2. Set the first entry of this list to 100 and append the value of 99 to the list. Again **print out** the **length** of this and compute the **sum** of the first and last entry by using *indexing*. **[1.5]**"
   ]
  },
  {
   "cell_type": "code",
   "execution_count": null,
   "metadata": {},
   "outputs": [],
   "source": [
    "# Create your list here\n"
   ]
  },
  {
   "cell_type": "code",
   "execution_count": null,
   "metadata": {},
   "outputs": [],
   "source": [
    "# Compute the length of the list\n"
   ]
  },
  {
   "cell_type": "code",
   "execution_count": null,
   "metadata": {},
   "outputs": [],
   "source": [
    "# Compute the sum of the first and last entry by using indexing.\n"
   ]
  },
  {
   "cell_type": "code",
   "execution_count": null,
   "metadata": {},
   "outputs": [],
   "source": [
    "# Print out the length of the list this cell\n"
   ]
  },
  {
   "cell_type": "code",
   "execution_count": null,
   "metadata": {},
   "outputs": [],
   "source": [
    "# Print out the sum of first and last entry in this cell\n"
   ]
  },
  {
   "cell_type": "code",
   "execution_count": null,
   "metadata": {},
   "outputs": [],
   "source": [
    "# Modify the elements of your list in this cell\n"
   ]
  },
  {
   "cell_type": "code",
   "execution_count": null,
   "metadata": {},
   "outputs": [],
   "source": [
    "# Compute the length of the list\n"
   ]
  },
  {
   "cell_type": "code",
   "execution_count": null,
   "metadata": {},
   "outputs": [],
   "source": [
    "# Compute the sum of the first and last entry by using indexing.\n"
   ]
  },
  {
   "cell_type": "code",
   "execution_count": null,
   "metadata": {},
   "outputs": [],
   "source": [
    "# Print out the length of the list in this cell\n"
   ]
  },
  {
   "cell_type": "code",
   "execution_count": null,
   "metadata": {},
   "outputs": [],
   "source": [
    "# Print out the sum of first and last entry in this cell\n"
   ]
  },
  {
   "cell_type": "markdown",
   "metadata": {},
   "source": [
    "#### **B2. Tuples**\n",
    "\n",
    "**Task**:\n",
    "1. Create a tuple which contains the same values as the previously defined list. **[0.5]**\n",
    "2. Try to change the second element of this tuple to 77 and run the script. Describe which error occurs and why. Make sure to comment this line of code afterwards otherwise cells below will not be executed! **[1]**"
   ]
  },
  {
   "cell_type": "code",
   "execution_count": null,
   "metadata": {},
   "outputs": [],
   "source": [
    "# Create the tuple in this cell\n"
   ]
  },
  {
   "cell_type": "code",
   "execution_count": null,
   "metadata": {},
   "outputs": [],
   "source": [
    "# Try to change the 2nd element of this tuple\n",
    "\n",
    "# First execute the code (Cell > Run All) and inspect the error.\n",
    "# Afterwards make sure to comment all code within this cell - otherwise cells below will not be executed!"
   ]
  },
  {
   "cell_type": "markdown",
   "metadata": {},
   "source": [
    "Write your **answer** about which error occurs and why **here**:\n"
   ]
  },
  {
   "cell_type": "markdown",
   "metadata": {},
   "source": [
    "#### **B3. Dictionaries**\n",
    "\n",
    "**Tasks**:\n",
    "1. Create a dictionary which contains the following *key-value* pairs: *City* - *Bonn*, *Street* - *Nussallee*, *HouseNumber* - 15.<br /> Get the value of *HouseNumber* and **print it out**. **[1]**\n",
    "2. Add the key-value pair *LectureRoom* : *14* to this dictionary. Finally **print out** all **keys** and **values** of this dictionary. **[1.5]**"
   ]
  },
  {
   "cell_type": "code",
   "execution_count": null,
   "metadata": {},
   "outputs": [],
   "source": [
    "# Create the dictionary here\n"
   ]
  },
  {
   "cell_type": "code",
   "execution_count": null,
   "metadata": {},
   "outputs": [],
   "source": [
    "# Get the value of 'HouseNumber' and print it in this cell\n"
   ]
  },
  {
   "cell_type": "code",
   "execution_count": null,
   "metadata": {},
   "outputs": [],
   "source": [
    "# Add key-value pair\n"
   ]
  },
  {
   "cell_type": "code",
   "execution_count": null,
   "metadata": {},
   "outputs": [],
   "source": [
    "# Print out all keys of the dict\n"
   ]
  },
  {
   "cell_type": "code",
   "execution_count": null,
   "metadata": {},
   "outputs": [],
   "source": [
    "# Print out all values of the dict\n"
   ]
  },
  {
   "cell_type": "markdown",
   "metadata": {},
   "source": [
    "## **C. Conditionals and Loops [4]**"
   ]
  },
  {
   "cell_type": "markdown",
   "metadata": {},
   "source": [
    "**Tasks:**\n",
    "1. You are given a list which contains multiple lists itself which we assign to the variable called *nested_list*. **Print out** the length of *nested_list* and write a *for loop* which **prints** the **length** of each individual list within the *nested_list*. **[2]**\n",
    "2. Sum up all entries in the nested list by using nested *for loops*. If a entry is equal to zero **print** the string *'Found zero element**. Finally **print out** the result of the **sum**. **[2]**"
   ]
  },
  {
   "cell_type": "code",
   "execution_count": null,
   "metadata": {},
   "outputs": [],
   "source": [
    "# Python is picky with tabs! All code you want to run within a loop or condition needs to be indented by 4 spaces.\n",
    "# In case the loop or condition in nested within another loop or condition it needs to be indented by \n",
    "# 8 spaces and so on.\n",
    "\n",
    "# Example\n",
    "for i in range(1):\n",
    "    print(i)             # -> 4 spaces before the print statement\n",
    "    for j in range(1):   # -> 4 spaces before for begins\n",
    "        print(j)         # -> 8 spaces before the print statement"
   ]
  },
  {
   "cell_type": "code",
   "execution_count": null,
   "metadata": {},
   "outputs": [],
   "source": [
    "# You are a given a nested list\n",
    "nested_list = [[1,2,3,0],\n",
    "               [4,5,0,6, 5],\n",
    "               [7,0,9,0,10, -10]]"
   ]
  },
  {
   "cell_type": "code",
   "execution_count": null,
   "metadata": {},
   "outputs": [],
   "source": [
    "# Print out the length of nested_list in this cell\n"
   ]
  },
  {
   "cell_type": "code",
   "execution_count": null,
   "metadata": {},
   "outputs": [],
   "source": [
    "# Write the code to print the length of each individual list within the nested_list in this cell by using a loop\n"
   ]
  },
  {
   "cell_type": "code",
   "execution_count": null,
   "metadata": {},
   "outputs": [],
   "source": [
    "# Write the code to sum up all entries in nested_list in this cell\n"
   ]
  },
  {
   "cell_type": "code",
   "execution_count": null,
   "metadata": {},
   "outputs": [],
   "source": [
    "# Print out the result of the sum in this cell\n"
   ]
  },
  {
   "cell_type": "markdown",
   "metadata": {},
   "source": [
    "## **D. Functions [3]**\n",
    "Functions can help you to organize and structure your code, while keeping the effort for redundant tasks low. For an even better organization (especially for bigger projects), it usually makes sense to distribute parts of your code to multiple files (so called modules). \n",
    "\n",
    "**Hint:** Whenever you have to write the same code at least twice: make a function for it!"
   ]
  },
  {
   "cell_type": "markdown",
   "metadata": {},
   "source": [
    "**Tasks**:\n",
    "1. Create a python file 'utilities.py'. Write in there a function called ```sum_nested_list(...)``` which takes as input parameter a nested list and returns the sum of all entries **[2]**\n",
    "2. Import the the previously created module and pass the given variable *another_nested_list* to your function and **print** the **result**. **[1]**"
   ]
  },
  {
   "cell_type": "code",
   "execution_count": null,
   "metadata": {},
   "outputs": [],
   "source": [
    "# Given variable another_nested_list \n",
    "another_nested_list = [[22, -22, 33], [-33, 44, 55], [-55, -44, 1, -2]]"
   ]
  },
  {
   "cell_type": "code",
   "execution_count": null,
   "metadata": {},
   "outputs": [],
   "source": [
    "# Call your function here\n"
   ]
  },
  {
   "cell_type": "code",
   "execution_count": null,
   "metadata": {},
   "outputs": [],
   "source": [
    "# Print out the sum of all entries here\n"
   ]
  },
  {
   "cell_type": "markdown",
   "metadata": {},
   "source": [
    "## **E. Numpy [16.5]**\n",
    "#### **E1. Initialization**\n",
    "Numpy is the most used module for numerical applications in python. It handles matrices very efficiently and has a big library for linear algebra.\n",
    "<br>**Tasks:**\n",
    "1. import numpy **[0.5]**\n",
    "2. create and print a ... **[1]**\n",
    "   - ... 3x4 matrix with zeros\n",
    "   - ... 4x3x3 matrix with ones\n",
    "   - ... 3x3 identity matrix\n",
    "   - ... array with the values from 0 to 4 (integer)"
   ]
  },
  {
   "cell_type": "code",
   "execution_count": null,
   "metadata": {},
   "outputs": [],
   "source": [
    "# Import numpy here as np\n"
   ]
  },
  {
   "cell_type": "code",
   "execution_count": null,
   "metadata": {},
   "outputs": [],
   "source": [
    "# Zero matrix\n"
   ]
  },
  {
   "cell_type": "code",
   "execution_count": null,
   "metadata": {},
   "outputs": [],
   "source": [
    "# Ones: 3 dimensional matrix\n"
   ]
  },
  {
   "cell_type": "code",
   "execution_count": null,
   "metadata": {},
   "outputs": [],
   "source": [
    "# Identity Matrix\n"
   ]
  },
  {
   "cell_type": "code",
   "execution_count": null,
   "metadata": {},
   "outputs": [],
   "source": [
    "# arange\n"
   ]
  },
  {
   "cell_type": "markdown",
   "metadata": {},
   "source": [
    "#### **E2. Random numbers**\n",
    "\n",
    "Random sampling is essential in probabilistic robotics theory.\n",
    "\n",
    "**Tasks:**\n",
    "1. Randomly sample 1000 values according to a **uninform distribution** defined in the range between -10 and 10.  **[0.5]**\n",
    "2. Randomly sample 1000 values according to a **normal distribution** with mean 0 and standard deviation 3. **[0.5]**\n",
    "3. Plot histograms of the sampled values for both sets of values. **Hint:** Use matplotlib for the visualization. See *matplotlib.pyplot.hist*. **[1]**"
   ]
  },
  {
   "cell_type": "code",
   "execution_count": null,
   "metadata": {},
   "outputs": [],
   "source": [
    "# Uniform sampling\n"
   ]
  },
  {
   "cell_type": "code",
   "execution_count": null,
   "metadata": {},
   "outputs": [],
   "source": [
    "# Normal distributed sampling\n"
   ]
  },
  {
   "cell_type": "code",
   "execution_count": null,
   "metadata": {},
   "outputs": [],
   "source": [
    "# Visualization\n"
   ]
  },
  {
   "cell_type": "markdown",
   "metadata": {},
   "source": [
    "4. Compute and print mean and standard deviations for both sets of values."
   ]
  },
  {
   "cell_type": "code",
   "execution_count": null,
   "metadata": {},
   "outputs": [],
   "source": [
    "# uniform\n",
    "# normal\n"
   ]
  },
  {
   "cell_type": "markdown",
   "metadata": {},
   "source": [
    "#### **E3. Images: Cube Slicing**\n",
    "Images are one of the most important data types in photogrammetry, so that the handling of these should feel quite familiar to you.\n",
    "An image in python is typically represented as a 3 dimensional numpy array *(rows, cols, channel)*. We will use matplotlib for the visualization and skimage for reading and writing to disk. "
   ]
  },
  {
   "cell_type": "markdown",
   "metadata": {},
   "source": [
    "**Tasks:**\n",
    "1. Load and visualize the image: *images/baboon-rgb.jpg*, **Hint:** use ```skimage.io.imread(...)``` for loading the image, and ```plt.imshow()``` for plotting. **[1]**\n",
    "2. print the shape of the image as well as the underlying data type. **[0.5]**\n",
    "3. create two variables which hold the left and the right half of the image, respectively. Make sure that both parts have the same size and plot both images. **Hint:** use subplots. **[1]**\n",
    "4. flip the right image along a vertical axis, plot the result. **[1]**\n",
    "5. Convert the left and the right flipped image to uint8 for later computations. **[0.5]**\n",
    "6. Compute the absolute difference between the left and the right flipped image. **[0.5]**\n",
    "7. Convert the difference image back to uint8, visualize the resulting image. What can you see? Explain the colors you can see. **[3]**"
   ]
  },
  {
   "cell_type": "code",
   "execution_count": null,
   "metadata": {},
   "outputs": [],
   "source": [
    "# Import necessary modules here:\n"
   ]
  },
  {
   "cell_type": "code",
   "execution_count": null,
   "metadata": {},
   "outputs": [],
   "source": [
    "# Load and visualize image\n"
   ]
  },
  {
   "cell_type": "code",
   "execution_count": null,
   "metadata": {},
   "outputs": [],
   "source": [
    "# print the shape and underlying data type\n"
   ]
  },
  {
   "cell_type": "code",
   "execution_count": null,
   "metadata": {},
   "outputs": [],
   "source": [
    "# Split image in left and right half:\n",
    "\n",
    "# print shapes:\n"
   ]
  },
  {
   "cell_type": "code",
   "execution_count": null,
   "metadata": {},
   "outputs": [],
   "source": [
    "# Plotting left and right image\n"
   ]
  },
  {
   "cell_type": "code",
   "execution_count": null,
   "metadata": {},
   "outputs": [],
   "source": [
    "# flip right image and plot the result:\n"
   ]
  },
  {
   "cell_type": "code",
   "execution_count": null,
   "metadata": {},
   "outputs": [],
   "source": [
    "# Convert to float \n"
   ]
  },
  {
   "cell_type": "code",
   "execution_count": null,
   "metadata": {},
   "outputs": [],
   "source": [
    "# compute difference here:\n"
   ]
  },
  {
   "cell_type": "code",
   "execution_count": null,
   "metadata": {},
   "outputs": [],
   "source": [
    "# Convert to uint8:\n",
    "\n",
    "# Plot differences:\n"
   ]
  },
  {
   "cell_type": "markdown",
   "metadata": {},
   "source": [
    "7. Write your answer here:\n",
    "\n"
   ]
  },
  {
   "cell_type": "markdown",
   "metadata": {},
   "source": [
    "#### **E4. Point Transformation** \n",
    "Point clouds are a common data type in various areas (surveying, photogrammetry, data analysis...). \n",
    "In the following we have given an L-shaped point cloud [2xn] (*n=200*), on which we want to apply some transformations and visualize the results with matplotlib. \n",
    "\n",
    "**Tasks:**\n",
    "1. Visualize the point cloud. **[0.5]**\n",
    "1. Write a function angle2rotMat(...) that returns the rotation matrix [2x2] for a given rotation angle (in degree). **[0.5]**\n",
    "2. Write for the function a header which describes what the function is doing, as well as the input and output parameter. **[0.5]**\n",
    "3. Create the 2 rotation matrices *R1* and *R2*: the first with an angle of 30[degree] and the second with an angle of 60[degree]. Print both matrices. **[0.5]**\n",
    "4. Rotate the given point cloud by *R1* and save the result in *points_r1*. Be aware of the difference between a matrix multiplication and an elementwise multiplication. **[0.5]**\n",
    "5. Rotate *points_r1* by *R2* and save the result in *points_r2*. **[0.5]**\n",
    "6. Shift points_r2 by the *translation=(3,4)^T* and save the result in *points_t*. **[0.5]**\n",
    "7. Create a figure with 4 subplots. Plot *points*, *points_r1*, *points_r2* and *points_t* in the created subplots, respectively. **[2]**"
   ]
  },
  {
   "cell_type": "code",
   "execution_count": null,
   "metadata": {},
   "outputs": [],
   "source": [
    "# generating an L-shaped point cloud.\n",
    "import numpy as np\n",
    "np.random.seed(0) # For reproducable results\n",
    "points = np.hstack([np.array([[5,0.5]]).T* np.random.rand(2,100),np.array([[0.5,5]]).T*np.random.rand(2,100)])\n",
    "print('Point cloud dimension:',points.shape)"
   ]
  },
  {
   "cell_type": "code",
   "execution_count": null,
   "metadata": {},
   "outputs": [],
   "source": [
    "# Plot points here\n"
   ]
  },
  {
   "cell_type": "code",
   "execution_count": null,
   "metadata": {},
   "outputs": [],
   "source": [
    "# write angle2rotMat(...):\n"
   ]
  },
  {
   "cell_type": "code",
   "execution_count": null,
   "metadata": {},
   "outputs": [],
   "source": [
    "# create rotation matrices\n"
   ]
  },
  {
   "cell_type": "code",
   "execution_count": null,
   "metadata": {},
   "outputs": [],
   "source": [
    "# create translation vector\n",
    "\n",
    "# apply Transformations \n"
   ]
  },
  {
   "cell_type": "code",
   "execution_count": null,
   "metadata": {},
   "outputs": [],
   "source": [
    "# create subplots and plot results\n",
    "\n"
   ]
  },
  {
   "cell_type": "markdown",
   "metadata": {},
   "source": [
    "## **F. Robotic Applications [7.5]**\n",
    "#### **F1. Plot trajectory**"
   ]
  },
  {
   "cell_type": "markdown",
   "metadata": {},
   "source": [
    "**Tasks:**\n",
    "1. Read robot's odometry data from **odom.data** file. **[0.5]**\n",
    "    - Measurements are stored in rows in the following format: \n",
    "        [*hours*, *minutes*, *seconds*, $\\delta x_i$, $\\delta y_i$], \n",
    "        where *hours*, *minutes*, *seconds* indicate the time when the measurement was acquired. \n",
    "    - The first row contains the first position of the robot in world coordinates ($x_0$, $y_0$).\n",
    "2. Plot the trajectory of the robot in world coordinates. **[2]**\n",
    "    - The trajectory is computed by iteratively applying the measured odometry to the previous position:\n",
    "$$ x_{i+1} = x_{i} + \\delta x_{i},\\qquad y_{i+1} = y_{i} + \\delta y_{i}$$\n",
    "3. Plot the trajectory of the robot in world coordinates from 07:30:00 to 8:00:00. **[1]**"
   ]
  },
  {
   "cell_type": "code",
   "execution_count": null,
   "metadata": {},
   "outputs": [],
   "source": [
    "# 1.\n"
   ]
  },
  {
   "cell_type": "code",
   "execution_count": null,
   "metadata": {},
   "outputs": [],
   "source": [
    "# 2.\n"
   ]
  },
  {
   "cell_type": "code",
   "execution_count": null,
   "metadata": {},
   "outputs": [],
   "source": [
    "# 3.\n"
   ]
  },
  {
   "cell_type": "markdown",
   "metadata": {},
   "source": [
    "#### **F2. Robot navigation in grid world**\n",
    "Lets assume we have given a robot which is moving in a 2D grid world. We want to visualize the parts of the map which got explored by the robot."
   ]
  },
  {
   "cell_type": "markdown",
   "metadata": {},
   "source": [
    "**Tasks:**\n",
    "1. Generate a 5x5 grid world by using a numpy matrix where each cell is initially zero. **[0.5]**\n",
    "2. A point robot navigates on this grid world starting from cell (0,0) that is in the top-left corner of the grid. Implement the navigation actions of the robot and execute the following sequence of commands: *down*, *right*, *up*, *up*, *right*, *right*, *down*, *down*, *down*, *left*. Print the final position of the robot. **[3.0]**\n",
    "3. Mark the cells visited by the robot in 2. on the grid world by setting their value to $1$ and plot the grid world by using `matplotlib`. **[1.5]**"
   ]
  },
  {
   "cell_type": "code",
   "execution_count": null,
   "metadata": {},
   "outputs": [],
   "source": [
    "# 1.\n"
   ]
  },
  {
   "cell_type": "code",
   "execution_count": null,
   "metadata": {},
   "outputs": [],
   "source": [
    "# 2.\n"
   ]
  },
  {
   "cell_type": "code",
   "execution_count": null,
   "metadata": {},
   "outputs": [],
   "source": [
    "# 3.\n"
   ]
  }
 ],
 "metadata": {
  "kernelspec": {
   "display_name": "Python 3",
   "language": "python",
   "name": "python3"
  },
  "language_info": {
   "codemirror_mode": {
    "name": "ipython",
    "version": 3
   },
   "file_extension": ".py",
   "mimetype": "text/x-python",
   "name": "python",
   "nbconvert_exporter": "python",
   "pygments_lexer": "ipython3",
   "version": "3.6.9"
  },
  "toc": {
   "base_numbering": 1,
   "nav_menu": {},
   "number_sections": true,
   "sideBar": true,
   "skip_h1_title": false,
   "title_cell": "Table of Contents",
   "title_sidebar": "Contents",
   "toc_cell": false,
   "toc_position": {},
   "toc_section_display": true,
   "toc_window_display": false
  }
 },
 "nbformat": 4,
 "nbformat_minor": 4
}
