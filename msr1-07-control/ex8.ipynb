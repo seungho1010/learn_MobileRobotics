{
 "cells": [
  {
   "cell_type": "markdown",
   "metadata": {},
   "source": [
    "# Exercise 8 - Robot Control\n",
    "\n",
    "In this assignment, you will to implement a controller for a car-like robot to follow a desired path. The controller has two components, (i) Longitudinal Controller and (ii) Lateral Controller. Your task is to implement the two controllers individually and then combine them to perform the task of path following.  \n",
    "\n"
   ]
  },
  {
   "cell_type": "markdown",
   "metadata": {},
   "source": [
    "## Simplified Ackermann / Bicycle Model\n",
    "\n",
    "For this assignment, we will consider the simplified Ackermann model (or Bicycle model) for describing the kinematics of a car-like robot. The state of the car is described by $[x, y, \\theta, v, \\delta]$ where $x,y$ is the position, $\\theta$ is the orientation, $v$ is the linear velocity, and $\\delta$ is the steering angle of the vehicle. The controls $u$ are given by the $[a, \\dot{\\delta}]$ where $a$ is the linear acceleration and $\\dot{\\delta}$ is the steering rate of the vehicle.\n",
    "\n",
    "<img src=\"ackermann_car_model.png\" width=\"500\">\n",
    "\n",
    "In order for the wheels of the car to have rolling motion without any slipping, the steering angle must be $\\delta = \\tan^{-1}(\\frac{d}{r})$. Here, $d$ is the distance between the rear and the front axle of the car (i.e. length of the vehicle) and $r$ is the distance to the instantaneous center of curvature (ICC). In addition, our robot must satisfy the following constraints:\n",
    "1. $ v < 10 \\,m/s $ \n",
    "2. $ |\\delta| \\leq \\pi/3 \\,rad\\,(60\\,deg)$\n",
    "3. $ |\\dot{\\delta}| <  \\leq 0.175\\,rad/s\\,(10\\,deg/sec)$\n",
    "\n"
   ]
  },
  {
   "cell_type": "code",
   "execution_count": 1,
   "metadata": {},
   "outputs": [
    {
     "name": "stdout",
     "output_type": "stream",
     "text": [
      "x:1.00, y:3.00, theta:1.05, v:0.00, delta:0.00\n",
      "x:1.50, y:3.87, theta:1.15, v:1.00, delta:0.10\n"
     ]
    }
   ],
   "source": [
    "import ex8 as ex\n",
    "import numpy as np\n",
    "import matplotlib.pyplot as plt\n",
    "import math\n",
    "\n",
    "# Initialze robot \n",
    "robot = ex.Robot()\n",
    "robot.x = 1\n",
    "robot.y = 3\n",
    "robot.theta = np.pi/3\n",
    "robot.v = 0\n",
    "robot.delta = 0\n",
    "\n",
    "# Pose of the robot before applying the control command\n",
    "print('x:{:.2f}, y:{:.2f}, theta:{:.2f}, v:{:.2f}, delta:{:.2f}'.format(robot.x, robot.y, robot.theta, robot.v, robot.delta))\n",
    "\n",
    "# Apply a control command\n",
    "a = 1 # m/s\n",
    "delta_dot = 0.1 # rad/s\n",
    "dt = 1 #time period for which the command is applied\n",
    "robot.apply_control(a, delta_dot, dt)\n",
    "\n",
    "# Pose of the robot after applying the control command\n",
    "print('x:{:.2f}, y:{:.2f}, theta:{:.2f}, v:{:.2f}, delta:{:.2f}'.format(robot.x, robot.y, robot.theta, robot.v, robot.delta))"
   ]
  },
  {
   "cell_type": "markdown",
   "metadata": {},
   "source": [
    "## 8.1 Longitudinal Controller [3.0]\n",
    "\n",
    "The goal of the longitudinal controller is ensure that the linear velocity $v$ of the vehicle is close to the desired velocity $v_{des}$. \n",
    "\n",
    "The robot follows velocity model that is linear in the control input $a$.\n",
    "\n",
    "Implement a PID controller with appropriate gains $(K_P, K_D, K_I)$ such that $ |v - v_{des}| < 0.2\\,m/s $ after intial convergence. \n",
    "\n",
    "Verify that your implementation is correct for some test input.\n",
    "\n",
    "Hints:\n",
    "1. Start with noise free control (by setting noisy_controls = False).\n",
    "2. Tune the gains incrementally, i.e first set only $K_p$, then ($K_p,K_d$), and finally $(K_p, K_d, K_I)$.     "
   ]
  },
  {
   "cell_type": "code",
   "execution_count": 2,
   "metadata": {},
   "outputs": [],
   "source": [
    "# Add code to test the PID controller"
   ]
  },
  {
   "cell_type": "markdown",
   "metadata": {},
   "source": [
    "## 8.2 Lateral Controller [3.0]\n",
    "\n",
    "The goal of the lateral controller is to ensure that the steering angle $\\delta$ is set such that the vehicle intersects the desired path at a look-ahead distance $l_d$ according to the pure-pursuit strategy explained in the lecture.\n",
    "\n",
    "<img src=\"pure_pursuit.png\" width=\"500\">\n",
    "\n",
    "Implement a lateral controller with $l_d = 2\\,m$. The length of the car is $d = 1\\,m$. Verify that your implementation is correct for some test input."
   ]
  },
  {
   "cell_type": "code",
   "execution_count": 3,
   "metadata": {},
   "outputs": [],
   "source": [
    "# Implement the lateral controller which sets the steering angl"
   ]
  },
  {
   "cell_type": "markdown",
   "metadata": {},
   "source": [
    "## 8.3 Path Following Task [4.0]\n",
    "\n",
    "Once you complete the above two functions, implement the procedure to follow the desired path as accurately as possible. The desired path to be followed is a curve provided in the code snippet. The desired linear velocity \n",
    "is $v_{des} = 2\\,m/s$. The robot starts at an initial pose $x_0 = [0, 3, \\pi/3]$.\n",
    "\n",
    "Implement the function which uses the longitudinal and lateral controllers to follow the path. Run the simulation upto time T = 100 seconds or until the end of trajectory is reached. Assume that the controllers provide input at 10 Hz (i.e dt = 0.1). Plot the actual trajectory followed by the robot and overlay it with the desired trajectory.\n",
    "\n",
    "Hints:\n",
    "1. You may use the function `calculate_lookahead_index` to compute the index of the lookahead point along the trajectory. \n",
    "2. You may also play with the lookahead distance parameter $L_d$ to obtain better tracking results."
   ]
  },
  {
   "cell_type": "code",
   "execution_count": 4,
   "metadata": {},
   "outputs": [
    {
     "data": {
      "image/png": "[encoded data removed]",
      "text/plain": [
       "<Figure size 432x288 with 1 Axes>"
      ]
     },
     "metadata": {
      "needs_background": "light"
     },
     "output_type": "display_data"
    }
   ],
   "source": [
    "# Implement code to call the two implemented controllers to follow a dedired trajectory\n",
    "\n",
    "# initialize robot\n",
    "robot = ex.Robot()\n",
    "robot.x = 0\n",
    "robot.y = 3\n",
    "robot.theta = np.pi/3\n",
    "robot.v = 0\n",
    "robot.delta = 0\n",
    "\n",
    "# desired longitudinal velocity \n",
    "v_des = 2  # [m/s]\n",
    "\n",
    "# desired trajectory\n",
    "x_des = np.arange(0, 50, 0.1)\n",
    "y_des = [math.sin(x_i / 5.0) * x_i / 2.0 for x_i in x_des]\n",
    "\n",
    "# variables to record robot state\n",
    "x_traj = [robot.x]\n",
    "y_traj = [robot.y]\n",
    "theta_traj = [robot.theta]\n",
    "v_t = [robot.v]\n",
    "delta_t = [robot.delta]\n",
    "\n",
    "# set simulation time\n",
    "T = 100\n",
    "dt = 0.1 # 10Hz\n",
    "t = 0\n",
    "\n",
    "# main loop\n",
    "while t < T:\n",
    "\n",
    "    # TODO: compute control and update robot pose\n",
    "    \n",
    "    \n",
    "    # update time\n",
    "    t = t + dt\n",
    "    \n",
    "    # save varaibles for plotting\n",
    "    x_traj.append(robot.x)\n",
    "    y_traj.append(robot.y)\n",
    "    theta_traj.append(robot.theta)\n",
    "    v_t.append(robot.v)\n",
    "    delta_t.append(robot.delta)\n",
    "    \n",
    "# Plot trajectory\n",
    "plt.cla()\n",
    "#ex.plot_arrow(robot.x, robot.y, robot.theta)\n",
    "plt.plot(x_des, y_des, \".r\", label=\"course\")\n",
    "plt.plot(x_traj, y_traj, \"-b\", label=\"trajectory\")\n",
    "plt.legend()\n",
    "plt.xlabel(\"x[m]\")\n",
    "plt.ylabel(\"y[m]\")\n",
    "plt.axis(\"equal\")\n",
    "plt.grid(True)\n",
    "plt.show()"
   ]
  },
  {
   "cell_type": "code",
   "execution_count": null,
   "metadata": {},
   "outputs": [],
   "source": []
  }
 ],
 "metadata": {
  "kernelspec": {
   "display_name": "Python 3",
   "language": "python",
   "name": "python3"
  },
  "language_info": {
   "codemirror_mode": {
    "name": "ipython",
    "version": 3
   },
   "file_extension": ".py",
   "mimetype": "text/x-python",
   "name": "python",
   "nbconvert_exporter": "python",
   "pygments_lexer": "ipython3",
   "version": "3.5.2"
  }
 },
 "nbformat": 4,
 "nbformat_minor": 4
}
