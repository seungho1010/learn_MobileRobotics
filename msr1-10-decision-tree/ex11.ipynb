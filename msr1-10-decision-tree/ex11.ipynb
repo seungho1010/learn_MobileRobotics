{
 "cells": [
  {
   "cell_type": "markdown",
   "metadata": {},
   "source": [
    "# Exercise 11 - Decision Tree Classification\n",
    "\n",
    "In this exercise, you will implement a simple classifier for the pupolar Iris dataset.\n",
    "The dataset contains 3 classes of 50 instances each, where each class refers to a type of iris plant Each instance has 4 attributes, namely:\n",
    "\n",
    "- Sepal length in cm\n",
    "- Sepal width in cm\n",
    "- Petal length in cm\n",
    "- Petal width in cm"
   ]
  },
  {
   "cell_type": "code",
   "execution_count": 1,
   "metadata": {},
   "outputs": [],
   "source": [
    "import sklearn.datasets as datasets\n",
    "import numpy as np\n",
    "import random\n",
    "\n",
    "random.seed(0)\n",
    "\n",
    "iris = datasets.load_iris()\n",
    "X = iris.data\n",
    "y = iris.target\n",
    "\n",
    "num_samples = np.shape(X)[0]\n",
    "train_ratio = 0.7\n",
    "\n",
    "num_train = int(np.round(num_samples*train_ratio))\n",
    "num_test = num_samples-num_train\n",
    "\n",
    "ids = random.sample(range(0, num_samples), num_samples)\n",
    "id_train = ids[:num_train]\n",
    "id_test = ids[num_train:]\n",
    "\n",
    "X_train = X[id_train, :]\n",
    "y_train = y[id_train]\n",
    "X_test = X[id_test, :]\n",
    "y_test = y[id_test]"
   ]
  },
  {
   "cell_type": "markdown",
   "metadata": {},
   "source": [
    "We use 70% of the data for training and the remaining 30% for testing.\n",
    "\n",
    "- $X_{train}$ are the training instances\n",
    "- $y_{train}$ are the training labels\n",
    "- $X_{test}$ are the test instances\n",
    "- $y_{train}$ are the test labels for validation\n",
    "\n",
    "If `sklearn` is not found, you can install sklearn with `pip install -U scikit-learn` or `conda install scikit-learn`."
   ]
  },
  {
   "cell_type": "markdown",
   "metadata": {},
   "source": [
    "## 11.1 Decision Tree Classification [5.0]\n",
    "\n",
    "Implement a decision tree classifier for this dataset.\n",
    "\n",
    "Decision tree classification performs a sequence of splits of the input space. \n",
    "A decision tree consists in a hierarchy of decision nodes. \n",
    "Each decision node implements a test function with discrete outcomes. \n",
    "The test function of each decision node splits the input space into regions corresponding to classes.\n",
    "\n",
    "To build a decision tree, iterate over each value of each attribute and select the best split over the input space.\n",
    "Use the entropy over the classes as heuristic to select the best split. The best is the one that reduces the entropy the most.\n",
    "\n",
    "Evaluate your classifier on the test data and plot its classification accuracy and the confusion matrix for the 3 classes."
   ]
  },
  {
   "cell_type": "code",
   "execution_count": null,
   "metadata": {},
   "outputs": [],
   "source": []
  },
  {
   "cell_type": "markdown",
   "metadata": {},
   "source": [
    "## 11.2 Random Forest Classification [5.0]\n",
    "\n",
    "Implement a random forest classifier for this dataset.\n",
    "\n",
    "Random forest classification consists of the following steps:\n",
    "\n",
    "1. Subsample the training dataset into 3 subsets.\n",
    "2. Randomly subsample the attributes in each subset to >1 attributes.\n",
    "3. Learn a decision tree for each subset\n",
    "4. Classify the test samples by combining the results from each classifier\n",
    "\n",
    "Evaluate your classifier on the test data and plot its classification accuracy and the confusion matrix for the 3 classes."
   ]
  },
  {
   "cell_type": "code",
   "execution_count": null,
   "metadata": {},
   "outputs": [],
   "source": []
  }
 ],
 "metadata": {
  "kernelspec": {
   "display_name": "Python 3",
   "language": "python",
   "name": "python3"
  },
  "language_info": {
   "codemirror_mode": {
    "name": "ipython",
    "version": 3
   },
   "file_extension": ".py",
   "mimetype": "text/x-python",
   "name": "python",
   "nbconvert_exporter": "python",
   "pygments_lexer": "ipython3",
   "version": "3.5.2"
  }
 },
 "nbformat": 4,
 "nbformat_minor": 4
}
